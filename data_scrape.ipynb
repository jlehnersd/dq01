{
 "cells": [
  {
   "cell_type": "markdown",
   "metadata": {},
   "source": [
    "# Scrape game data for Dragon Quest 1 on the NES (1986)\n",
    "---\n",
    "\n",
    "Dragon Quest 1 (released in North America as Dragon Warrior) is the first game in the Dragon Quest JRPG sereis created by Enix (now Square Enix).\n",
    "\n",
    "This notebook contains code to scrape game data from webistes with accurate information about the game (monsters, items, spells, etc.). This is information is hard coded into the game and therefore is common to any playthrough of the originial 1986 Dragon Quest on NES.\n",
    "\n",
    "---"
   ]
  },
  {
   "cell_type": "code",
   "execution_count": 1,
   "metadata": {},
   "outputs": [],
   "source": [
    "import numpy as np\n",
    "import pandas as pd\n",
    "import bs4"
   ]
  },
  {
   "cell_type": "code",
   "execution_count": 2,
   "metadata": {},
   "outputs": [
    {
     "name": "stdout",
     "output_type": "stream",
     "text": [
      "Python 3.7.6\n"
     ]
    }
   ],
   "source": [
    "!python --version"
   ]
  },
  {
   "cell_type": "code",
   "execution_count": 3,
   "metadata": {},
   "outputs": [
    {
     "name": "stdout",
     "output_type": "stream",
     "text": [
      "Pandas version: 1.0.1\n",
      "Numpy version: 1.18.1\n",
      "BeautifulSoup version: 4.8.2\n"
     ]
    }
   ],
   "source": [
    "print(\"Pandas version:\", pd.__version__)\n",
    "print(\"Numpy version:\", np.__version__)\n",
    "print(\"BeautifulSoup version:\", bs4.__version__)"
   ]
  },
  {
   "cell_type": "markdown",
   "metadata": {},
   "source": [
    "## Monster Stats\n",
    "\n",
    "Monster data is take from this spectacular GameFAQs post by Ryan8bit: https://gamefaqs.gamespot.com/nes/563408-dragon-warrior/faqs/61640\n",
    "\n",
    "Monster stats were copied into their own text file (`monster_stats_faq.txt`) from section II.B of the FAQ\n",
    "\n",
    "---"
   ]
  },
  {
   "cell_type": "code",
   "execution_count": 87,
   "metadata": {},
   "outputs": [],
   "source": [
    "filename = 'data/game_data/monster_stats_faq.txt'"
   ]
  },
  {
   "cell_type": "code",
   "execution_count": 89,
   "metadata": {},
   "outputs": [],
   "source": [
    "# Remove leading whitespace to simplyfy data extraction\n",
    "cleaned_lines = []\n",
    "with open(filename, 'r') as file:\n",
    "    for line in file:\n",
    "        cleaned_lines.append(line.lstrip())\n",
    "file.close()\n",
    "\n",
    "# Remove empty lines\n",
    "cleaned_lines = [line for line in cleaned_lines if line != '']\n",
    "\n",
    "# Put attack pattern on single line\n",
    "newlines = []\n",
    "for idx, line in enumerate(cleaned_lines):\n",
    "    if line.startswith('Otherwise'):\n",
    "        lastline = lines[idx-1]\n",
    "        if idx < len(lines)-4:\n",
    "            nextline = lines[idx+1]\n",
    "        \n",
    "        # Case when monster has three possible actions\n",
    "        if nextline.startswith('Otherwise'):\n",
    "            newlines.append(' '.join([lastline[:-1], line[:-1], nextline])) # Remove newline from previous lines\n",
    "        \n",
    "        # Case when monster has two possible actions\n",
    "        elif lastline.startswith('Pattern') and nextline.startswith('#'):\n",
    "            newlines.append(' '.join([lastline[:-1], line]))\n",
    "    \n",
    "    elif not line.startswith('Pattern'):\n",
    "        newlines.append(line)\n",
    "\n",
    "cleaned_lines = newlines"
   ]
  },
  {
   "cell_type": "code",
   "execution_count": 90,
   "metadata": {},
   "outputs": [],
   "source": [
    "cleaned_filename = 'data/game_data/monster_stats_cleaned.txt'"
   ]
  },
  {
   "cell_type": "code",
   "execution_count": 91,
   "metadata": {},
   "outputs": [],
   "source": [
    "# Write cleaned lines to new file\n",
    "with open(cleaned_filename, 'w') as file:\n",
    "    for line in cleaned_lines:\n",
    "        file.write(line)\n",
    "file.close()"
   ]
  },
  {
   "cell_type": "code",
   "execution_count": 101,
   "metadata": {},
   "outputs": [],
   "source": [
    "def extract_monster_data(filename, stat_name):\n",
    "    \"\"\"\n",
    "    Extracts the specified stat for every monster in the game.\n",
    "\n",
    "    Parameters\n",
    "    ----------\n",
    "    filename:  cleaned monster data text file directory (str)\n",
    "    stat_name: name of the stat to be extracted (str)\n",
    "\n",
    "    Output\n",
    "    ------\n",
    "    stats: stat value for each monster (list)\n",
    "    \"\"\"\n",
    "    stats = []\n",
    "    with open(filename, 'r') as file:\n",
    "        for line in file:\n",
    "            if stat_name == 'id':\n",
    "                if line.startswith('#'):\n",
    "                    stats.append(line[1:3])\n",
    "            \n",
    "            elif stat_name == 'name':\n",
    "                if line.startswith('#'):\n",
    "                    slice_end = len(line) - 1\n",
    "                    stats.append(line[6:slice_end])\n",
    "            \n",
    "            else:\n",
    "                if line.startswith(stat_name):\n",
    "                    slice_start = len(stat_name) + 2\n",
    "                    slice_end =  len(line) - 1\n",
    "                    stats.append(line[slice_start:slice_end])\n",
    "    file.close()\n",
    "    \n",
    "    return stats"
   ]
  },
  {
   "cell_type": "code",
   "execution_count": 103,
   "metadata": {
    "scrolled": true
   },
   "outputs": [
    {
     "data": {
      "text/plain": [
       "['3',\n",
       " '4',\n",
       " '5 - 6',\n",
       " '6 - 7',\n",
       " '10 - 13',\n",
       " '12 - 15',\n",
       " '16 - 20',\n",
       " '17 - 22',\n",
       " '18 - 23',\n",
       " '19 - 25',\n",
       " '16 - 20',\n",
       " '23 - 30',\n",
       " '23 - 30',\n",
       " '17 - 22',\n",
       " '26 - 34',\n",
       " '28 - 36',\n",
       " '4',\n",
       " '28 - 36',\n",
       " '29 - 38',\n",
       " '27 - 35',\n",
       " '29 - 38',\n",
       " '32 - 42',\n",
       " '27 - 35',\n",
       " '35 - 46',\n",
       " '53 - 70',\n",
       " '38 - 50',\n",
       " '42 - 55',\n",
       " '44 - 58',\n",
       " '38 - 50',\n",
       " '46 - 60',\n",
       " '49 - 65',\n",
       " '49 - 65',\n",
       " '49 - 65',\n",
       " '53 - 70',\n",
       " '53 - 70',\n",
       " '121 - 160',\n",
       " '68 - 90',\n",
       " '76 - 100',\n",
       " '76 - 100',\n",
       " '130']"
      ]
     },
     "execution_count": 103,
     "metadata": {},
     "output_type": "execute_result"
    }
   ],
   "source": [
    "extract_monster_data(cleaned_filename, 'HP')"
   ]
  },
  {
   "cell_type": "code",
   "execution_count": null,
   "metadata": {},
   "outputs": [],
   "source": [
    "# Store monster data in lists\n",
    "monster_id = []\n",
    "monster_name = []\n",
    "strength = []\n",
    "agility = []\n",
    "hp = []\n",
    "sleep_res = []\n",
    "stopspell_res = []"
   ]
  },
  {
   "cell_type": "code",
   "execution_count": 7,
   "metadata": {},
   "outputs": [
    {
     "ename": "FileNotFoundError",
     "evalue": "[Errno 2] No such file or directory: 'hnr1.abc'",
     "output_type": "error",
     "traceback": [
      "\u001b[1;31m---------------------------------------------------------------------------\u001b[0m",
      "\u001b[1;31mFileNotFoundError\u001b[0m                         Traceback (most recent call last)",
      "\u001b[1;32m<ipython-input-7-46d8404af960>\u001b[0m in \u001b[0;36m<module>\u001b[1;34m\u001b[0m\n\u001b[0;32m      1\u001b[0m \u001b[0mmonster_ids\u001b[0m \u001b[1;33m=\u001b[0m \u001b[1;33m[\u001b[0m\u001b[1;33m]\u001b[0m\u001b[1;33m\u001b[0m\u001b[1;33m\u001b[0m\u001b[0m\n\u001b[1;32m----> 2\u001b[1;33m \u001b[1;32mwith\u001b[0m \u001b[0mopen\u001b[0m\u001b[1;33m(\u001b[0m\u001b[1;34m\"hnr1.abc\"\u001b[0m\u001b[1;33m,\u001b[0m\u001b[1;34m\"r\"\u001b[0m\u001b[1;33m)\u001b[0m \u001b[1;32mas\u001b[0m \u001b[0mfi\u001b[0m\u001b[1;33m:\u001b[0m\u001b[1;33m\u001b[0m\u001b[1;33m\u001b[0m\u001b[0m\n\u001b[0m\u001b[0;32m      3\u001b[0m     \u001b[0mid\u001b[0m \u001b[1;33m=\u001b[0m \u001b[1;33m[\u001b[0m\u001b[1;33m]\u001b[0m\u001b[1;33m\u001b[0m\u001b[1;33m\u001b[0m\u001b[0m\n\u001b[0;32m      4\u001b[0m     \u001b[1;32mfor\u001b[0m \u001b[0mln\u001b[0m \u001b[1;32min\u001b[0m \u001b[0mfi\u001b[0m\u001b[1;33m:\u001b[0m\u001b[1;33m\u001b[0m\u001b[1;33m\u001b[0m\u001b[0m\n\u001b[0;32m      5\u001b[0m         \u001b[1;32mif\u001b[0m \u001b[0mln\u001b[0m\u001b[1;33m.\u001b[0m\u001b[0mstartswith\u001b[0m\u001b[1;33m(\u001b[0m\u001b[1;34m\"X:\"\u001b[0m\u001b[1;33m)\u001b[0m\u001b[1;33m:\u001b[0m\u001b[1;33m\u001b[0m\u001b[1;33m\u001b[0m\u001b[0m\n",
      "\u001b[1;31mFileNotFoundError\u001b[0m: [Errno 2] No such file or directory: 'hnr1.abc'"
     ]
    }
   ],
   "source": [
    "with open(\"hnr1.abc\",\"r\") as fi:\n",
    "    id = []\n",
    "    for ln in fi:\n",
    "        if ln.startswith(\"X:\"):\n",
    "            id.append(ln[2:])\n",
    "print(id)"
   ]
  },
  {
   "cell_type": "code",
   "execution_count": null,
   "metadata": {},
   "outputs": [],
   "source": []
  }
 ],
 "metadata": {
  "kernelspec": {
   "display_name": "Python 3",
   "language": "python",
   "name": "python3"
  },
  "language_info": {
   "codemirror_mode": {
    "name": "ipython",
    "version": 3
   },
   "file_extension": ".py",
   "mimetype": "text/x-python",
   "name": "python",
   "nbconvert_exporter": "python",
   "pygments_lexer": "ipython3",
   "version": "3.7.6"
  }
 },
 "nbformat": 4,
 "nbformat_minor": 4
}
