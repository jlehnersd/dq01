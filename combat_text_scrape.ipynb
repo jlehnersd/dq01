{
 "cells": [
  {
   "cell_type": "markdown",
   "metadata": {},
   "source": [
    "# Extract monster name from random encounter\n",
    "\n",
    "### Development and testing phase..."
   ]
  },
  {
   "cell_type": "code",
   "execution_count": 65,
   "metadata": {},
   "outputs": [],
   "source": [
    "import pytesseract\n",
    "from pytesseract import Output\n",
    "import cv2"
   ]
  },
  {
   "cell_type": "code",
   "execution_count": 66,
   "metadata": {},
   "outputs": [],
   "source": [
    "pytesseract.pytesseract.tesseract_cmd = 'D:\\\\Program Files (x86)\\\\Tesseract\\\\tesseract.exe'"
   ]
  },
  {
   "cell_type": "code",
   "execution_count": 67,
   "metadata": {},
   "outputs": [],
   "source": [
    "img = cv2.imread('data/dq0100101.jpg')\n",
    "#cv2.imshow('image', img)\n",
    "#cv2.waitKey(0)"
   ]
  },
  {
   "cell_type": "code",
   "execution_count": 95,
   "metadata": {},
   "outputs": [],
   "source": [
    "# x,y of top-left corner of box; h,w of box from that point; color; thickness\n",
    "img = cv2.imread('data/dq0100101.jpg')\n",
    "x1, x2 = (315, 362)\n",
    "y1, y2 = (150, 455)\n",
    "w1, w2 = (155, 505)\n",
    "h1, h2 = (230, 200)\n",
    "\n",
    "box1 = cv2.rectangle(img, (x1, y1), (x1 + w1, y1 + h1), (255, 0, 155), 2)\n",
    "box2 = cv2.rectangle(img, (x2, y2), (x2 + w2, y2 + h2), (0, 255, 0), 2)\n",
    "\n",
    "show = False\n",
    "if show:\n",
    "    cv2.imshow('image', img)\n",
    "    cv2.waitKey(0)\n",
    "    cv2.destroyAllWindows()"
   ]
  },
  {
   "cell_type": "code",
   "execution_count": 96,
   "metadata": {},
   "outputs": [
    {
     "data": {
      "text/plain": [
       "-1"
      ]
     },
     "execution_count": 96,
     "metadata": {},
     "output_type": "execute_result"
    }
   ],
   "source": [
    "# Crop text boxes\n",
    "img = cv2.imread('data/dq0100101.jpg')\n",
    "crop_img = img[y1:y1+h1, x1:x1+w1]\n",
    "\n",
    "cv2.imshow('cropped', crop_img)\n",
    "cv2.waitKey(0)"
   ]
  },
  {
   "cell_type": "code",
   "execution_count": 100,
   "metadata": {},
   "outputs": [
    {
     "data": {
      "text/plain": [
       "-1"
      ]
     },
     "execution_count": 100,
     "metadata": {},
     "output_type": "execute_result"
    }
   ],
   "source": [
    "# Crop text boxes\n",
    "img = cv2.imread('data/dq0100101.jpg')\n",
    "crop_img = img[y2:y2+h2, x2:x2+w2]\n",
    "\n",
    "cv2.imshow('cropped', crop_img)\n",
    "cv2.waitKey(0)"
   ]
  },
  {
   "cell_type": "code",
   "execution_count": 99,
   "metadata": {},
   "outputs": [
    {
     "name": "stdout",
     "output_type": "stream",
     "text": [
      "ra] Magidrakee draws\n",
      "near\n",
      "\n",
      "command?\n",
      "AS) CUO rs Cd a\n",
      "a=\n",
      "\f",
      "\n"
     ]
    }
   ],
   "source": [
    "print(pytesseract.image_to_string(crop_img))"
   ]
  },
  {
   "cell_type": "code",
   "execution_count": null,
   "metadata": {},
   "outputs": [],
   "source": []
  }
 ],
 "metadata": {
  "kernelspec": {
   "display_name": "Python 3",
   "language": "python",
   "name": "python3"
  },
  "language_info": {
   "codemirror_mode": {
    "name": "ipython",
    "version": 3
   },
   "file_extension": ".py",
   "mimetype": "text/x-python",
   "name": "python",
   "nbconvert_exporter": "python",
   "pygments_lexer": "ipython3",
   "version": "3.7.6"
  }
 },
 "nbformat": 4,
 "nbformat_minor": 4
}
